{
 "cells": [
  {
   "cell_type": "code",
   "execution_count": null,
   "id": "11825866-ba30-41f1-9883-961af773b7e0",
   "metadata": {},
   "outputs": [],
   "source": [
    "############################### Questions Answer #################################################"
   ]
  },
  {
   "cell_type": "code",
   "execution_count": null,
   "id": "7e040ce5-c9e9-40a8-ab97-967390b1cd94",
   "metadata": {},
   "outputs": [],
   "source": [
    "1. What is a parameter?\n",
    "Ans- \n",
    "    A parameter in machine learning is a variable that the model learns from data during training. Parameters help the model make predictions.\n",
    "    Example:\n",
    "    In a linear regression model (y = mx + c), m (slope) and c (intercept) are parameters that the model learns from the dataset."
   ]
  },
  {
   "cell_type": "code",
   "execution_count": null,
   "id": "0c08cace-7316-4388-b266-4bf355693fc2",
   "metadata": {},
   "outputs": [],
   "source": [
    "2.What is correlation?\n",
    "Ans-\n",
    "    Correlation measures the relationship between two variables. It tells us how one variable changes with respect to another.\n",
    "    The correlation coefficient (r) ranges from -1 to 1:\n",
    "\n",
    "   # +1 → Perfect positive correlation (both variables increase together).\n",
    "   # -1 → Perfect negative correlation (one increases, the other decreases).\n",
    "   # 0 → No correlation (no relationship between variables).\n"
   ]
  },
  {
   "cell_type": "code",
   "execution_count": null,
   "id": "af9121a3-4fb5-4d71-8ee7-c5e697b5cd9a",
   "metadata": {},
   "outputs": [],
   "source": [
    "3. What does negative correlation mean?\n",
    "Ans- \n",
    "    A negative correlation means that as one variable increases, the other decreases.\n",
    "    Example:\n",
    "\n",
    "    The more hours spent watching TV, the lower the exam score.\n",
    "    Increase in fuel efficiency leads to a decrease in fuel consumption.\n",
    "\n"
   ]
  },
  {
   "cell_type": "code",
   "execution_count": null,
   "id": "2f0a5110-488d-4700-9e54-9c45eb033c20",
   "metadata": {},
   "outputs": [],
   "source": [
    "4. Define Machine Learning. What are the main components in Machine Learning?\n",
    "Ans- \n",
    "    Machine Learning (ML) is a field of AI where computers learn from data without explicit programming.\n",
    "    Main components of ML:\n",
    "\n",
    "   1. Dataset – The raw data for training and testing.\n",
    "   2. Features – Input variables that influence the model’s prediction.\n",
    "   3. Model – A mathematical representation of the data.\n",
    "   4. Loss Function – Measures the difference between predicted and actual values.\n",
    "   5. Optimizer – Adjusts model parameters to minimize the loss.\n",
    "   6. Training Process – The phase where the model learns patterns from data.\n",
    "\n"
   ]
  },
  {
   "cell_type": "code",
   "execution_count": null,
   "id": "73723ed2-de75-46c6-a6d5-a4d28a1a89cc",
   "metadata": {},
   "outputs": [],
   "source": [
    "5. How does loss value help in determining whether the model is good or not?\n",
    "Ans-\n",
    "    The loss value tells how much the model’s predictions differ from actual results.\n",
    "    A low loss value means the model is making accurate predictions.\n",
    "    A high loss value means the model needs improvement.\n",
    "\n",
    "    Common loss functions:\n",
    "    Mean Squared Error (MSE) – Used in regression problems.\n",
    "    Cross-Entropy Loss – Used in classification tasks.\n",
    "\n"
   ]
  },
  {
   "cell_type": "code",
   "execution_count": null,
   "id": "f7d31633-c502-4d75-aba3-d7ef96e2148a",
   "metadata": {},
   "outputs": [],
   "source": [
    "6. What are continuous and categorical variables?\n",
    "Ans- \n",
    "   > Continuous Variables: Numeric values that can take any value within a range (e.g., height, temperature).\n",
    "   > Categorical Variables: Variables with fixed categories (e.g., colors: Red, Blue, Green).\n"
   ]
  },
  {
   "cell_type": "code",
   "execution_count": null,
   "id": "d0770015-826b-4f98-999f-532fe2a5f2a6",
   "metadata": {},
   "outputs": [],
   "source": [
    "7. How do we handle categorical variables in Machine Learning? What are the common techniques?\n",
    "Ans- \n",
    "    Categorical variables need to be converted into numerical form using:\n",
    "\n",
    "    One-Hot Encoding – Converts categories into binary values.\n",
    "    Label Encoding – Assigns numerical labels to categories.\n",
    "    Target Encoding – Replaces categories with mean target values.\n",
    "\n",
    "Example:\n",
    "        from sklearn.preprocessing import OneHotEncoder\n",
    "        encoder = OneHotEncoder()\n",
    "        X_encoded = encoder.fit_transform(X)\n"
   ]
  },
  {
   "cell_type": "code",
   "execution_count": null,
   "id": "f5a4df0c-4369-4eb9-97ee-f6ba210f62a5",
   "metadata": {},
   "outputs": [],
   "source": [
    "8. What do you mean by training and testing a dataset?\n",
    "Ans- \n",
    "    Training Dataset: Used to train the model.\n",
    "    Testing Dataset: Used to evaluate model performance on unseen data.\n",
    "\n",
    "    A common split is 80% training, 20% testing."
   ]
  },
  {
   "cell_type": "code",
   "execution_count": null,
   "id": "e3d9ff24-1fa8-4839-abfb-c2be416be0f2",
   "metadata": {},
   "outputs": [],
   "source": [
    "9. What is sklearn.preprocessing?\n",
    "Ans- \n",
    "    sklearn.preprocessing is a Scikit-Learn module for data preprocessing, including:\n",
    "\n",
    "    Feature scaling (StandardScaler, MinMaxScaler)\n",
    "    Encoding categorical variables (OneHotEncoder, LabelEncoder)\n",
    "\n",
    "Example:\n",
    "        from sklearn.preprocessing import StandardScaler\n",
    "        scaler = StandardScaler()\n",
    "        X_scaled = scaler.fit_transform(X)\n"
   ]
  },
  {
   "cell_type": "code",
   "execution_count": null,
   "id": "a5636301-5d21-4f6a-b077-f0230eacc4de",
   "metadata": {},
   "outputs": [],
   "source": [
    "10. What is a Test set?\n",
    "Ans-\n",
    "    A test set is a subset of the dataset used to evaluate a trained model. It helps measure generalization performance."
   ]
  },
  {
   "cell_type": "code",
   "execution_count": null,
   "id": "4684a2ad-7713-4f72-ae36-c5ff65384e75",
   "metadata": {},
   "outputs": [],
   "source": [
    "11. How do we split data for model fitting (training and testing) in Python?\n",
    "Ans-\n",
    "    We use train_test_split from Scikit-Learn:\n",
    "\n",
    "    from sklearn.model_selection import train_test_split\n",
    "    X_train, X_test, y_train, y_test = train_test_split(X, y, test_size=0.2, random_state=42)\n",
    "\n",
    "    This splits data into 80% training and 20% testing."
   ]
  },
  {
   "cell_type": "code",
   "execution_count": null,
   "id": "d8ec3752-fc18-49a0-b0d8-ea1477f5150a",
   "metadata": {},
   "outputs": [],
   "source": [
    "12. How do you approach a Machine Learning problem?\n",
    "Ans-\n",
    "    Steps to solve an ML problem:\n",
    "\n",
    "    1. Understand the problem.\n",
    "    2. Collect and preprocess data.\n",
    "    3. Perform Exploratory Data Analysis (EDA).\n",
    "    4. Select important features.\n",
    "    5. Split data into training and testing sets.\n",
    "    6. Choose a suitable model.\n",
    "    7. Train the model.\n",
    "    8. Evaluate model performance.\n",
    "    9. Tune hyperparameters.\n",
    "    10. Deploy and monitor the model.\n"
   ]
  },
  {
   "cell_type": "code",
   "execution_count": null,
   "id": "77d4f858-a647-4006-b1ea-19959db0cf4b",
   "metadata": {},
   "outputs": [],
   "source": [
    "13. Why do we have to perform EDA before fitting a model to the data?\n",
    "Ans-\n",
    "    EDA (Exploratory Data Analysis) helps in:\n",
    "\n",
    "    Understanding data distribution.\n",
    "    Identifying missing values.\n",
    "    Detecting outliers.\n",
    "    Finding correlations between variables.\n",
    "    Selecting important features for the model.\n"
   ]
  },
  {
   "cell_type": "code",
   "execution_count": null,
   "id": "27f372b7-bcfb-4b31-a053-410897880b38",
   "metadata": {},
   "outputs": [],
   "source": [
    "14. What is correlation?\n",
    "Ans-\n",
    "    Correlation measures the strength of the relationship between two variables. It can be positive, negative, or zero."
   ]
  },
  {
   "cell_type": "code",
   "execution_count": null,
   "id": "d7b42dd7-e7f4-4b0c-ac32-b398b8a25021",
   "metadata": {},
   "outputs": [],
   "source": [
    "15. What does negative correlation mean?\n",
    "Ans- \n",
    "    A negative correlation means that as one variable increases, the other decreases.\n",
    "    Example:\n",
    "    The more exercise you do, the less body fat you may have.\n",
    "\n"
   ]
  },
  {
   "cell_type": "code",
   "execution_count": null,
   "id": "293e1970-ae26-4a70-a97d-b2b08dddf252",
   "metadata": {},
   "outputs": [],
   "source": [
    "16. How can you find correlation between variables in Python?\n",
    "Ans- \n",
    "    Using pandas.corr() function:\n",
    "\n",
    "    import pandas as pd\n",
    "    df.corr()\n",
    "\n",
    "    This returns a correlation matrix showing relationships between variables."
   ]
  },
  {
   "cell_type": "code",
   "execution_count": null,
   "id": "11499d8e-32cf-41a7-b2f2-44a4c847e1bc",
   "metadata": {},
   "outputs": [],
   "source": [
    "17. What is causation? Explain difference between correlation and causation with an example.\n",
    "Ans- \n",
    "    Correlation: Two variables move together but do not cause each other.\n",
    "    Causation: One variable directly influences another.\n",
    "\n",
    "Example:\n",
    "\n",
    "    Correlation: Ice cream sales and drowning rates increase together (no causation).\n",
    "    Causation: Smoking causes lung cancer.\n",
    "\n"
   ]
  },
  {
   "cell_type": "code",
   "execution_count": null,
   "id": "db73241d-db3c-49b7-ac99-7bd62fbc2153",
   "metadata": {},
   "outputs": [],
   "source": [
    "18. What is an Optimizer? What are different types of optimizers? Explain each with an example.\n",
    "Ans-\n",
    "    An optimizer updates model parameters to minimize loss.\n",
    "\n",
    "        Types of optimizers:\n",
    "\n",
    "    Gradient Descent – Adjusts weights based on loss function.\n",
    "    Stochastic Gradient Descent (SGD) – Uses random samples for weight updates.\n",
    "    Adam Optimizer – Uses adaptive learning rates.\n",
    "\n",
    "    Example of Adam Optimizer in TensorFlow:\n",
    "                                            import tensorflow as tf\n",
    "                                            optimizer = tf.keras.optimizers.Adam(learning_rate=0.01)\n"
   ]
  },
  {
   "cell_type": "code",
   "execution_count": null,
   "id": "a7c8bb71-d479-4ad1-8f72-0e9031c3997c",
   "metadata": {},
   "outputs": [],
   "source": [
    "19. What is sklearn.linear_model?\n",
    "Ans- \n",
    "    sklearn.linear_model provides linear models such as:\n",
    "\n",
    "    Linear Regression (LinearRegression())\n",
    "    Logistic Regression (LogisticRegression())\n",
    "\n",
    "    Example:\n",
    "    \n",
    "    from sklearn.linear_model import LinearRegression\n",
    "    model = LinearRegression()\n"
   ]
  },
  {
   "cell_type": "code",
   "execution_count": null,
   "id": "dc9fbf64-fde0-4827-bb16-0d49367aa06d",
   "metadata": {},
   "outputs": [],
   "source": [
    "20. What does model.fit() do? What arguments must be given?\n",
    "Ans-\n",
    "    model.fit(X, y) trains the model using X (features) and y (target variable).\n",
    "    Example:\n",
    "    model.fit(X_train, y_train)\n"
   ]
  },
  {
   "cell_type": "code",
   "execution_count": null,
   "id": "ce316f61-7096-4ab8-b9dc-cccce97ce7ae",
   "metadata": {},
   "outputs": [],
   "source": [
    "21. What does model.predict() do? What arguments must be given?\n",
    "Ans-\n",
    "    model.predict(X) generates predictions for input X.\n",
    "\n",
    "    Example:\n",
    "            y_pred = model.predict(X_test)\n",
    "\n"
   ]
  },
  {
   "cell_type": "code",
   "execution_count": null,
   "id": "079052bd-9ca3-4142-beb5-64a2e3086db0",
   "metadata": {},
   "outputs": [],
   "source": [
    "22. What are continuous and categorical variables?\n",
    "Ans- \n",
    "   > Continuous Variables: Numeric values that can take any value within a range (e.g., height, temperature).\n",
    "   > Categorical Variables: Variables with fixed categories (e.g., colors: Red, Blue, Green).\n"
   ]
  },
  {
   "cell_type": "code",
   "execution_count": null,
   "id": "a890f0a4-fe34-456d-a50b-6b896e7c271b",
   "metadata": {},
   "outputs": [],
   "source": [
    "23. What is feature scaling? How does it help in Machine Learning?\n",
    "Ans-\n",
    "    Feature scaling ensures that all numerical features have the same scale, improving model performance.\n",
    "\n",
    "    Techniques:\n",
    "\n",
    "    Standardization: (X - mean) / std\n",
    "    Normalization: (X - min) / (max - min)\n",
    "\n"
   ]
  },
  {
   "cell_type": "code",
   "execution_count": null,
   "id": "c81e2af1-dfc4-4587-ab4b-ff6875b81754",
   "metadata": {},
   "outputs": [],
   "source": []
  },
  {
   "cell_type": "code",
   "execution_count": null,
   "id": "43ff5544-0585-4afb-895d-cdaee8a79dc0",
   "metadata": {},
   "outputs": [],
   "source": []
  },
  {
   "cell_type": "code",
   "execution_count": null,
   "id": "5f71e4cd-e4f4-4121-b9d5-51f8268beedb",
   "metadata": {},
   "outputs": [],
   "source": []
  },
  {
   "cell_type": "code",
   "execution_count": null,
   "id": "c730ea18-b53e-4339-b8eb-544291995a6e",
   "metadata": {},
   "outputs": [],
   "source": []
  },
  {
   "cell_type": "code",
   "execution_count": null,
   "id": "25383b24-e684-46e9-b88b-449b709cf194",
   "metadata": {},
   "outputs": [],
   "source": []
  },
  {
   "cell_type": "code",
   "execution_count": null,
   "id": "ebc6fc7e-3667-49b2-834a-edf26b196f54",
   "metadata": {},
   "outputs": [],
   "source": []
  },
  {
   "cell_type": "code",
   "execution_count": null,
   "id": "99ff53a3-40bb-4aff-80df-481c9c7275b7",
   "metadata": {},
   "outputs": [],
   "source": []
  }
 ],
 "metadata": {
  "kernelspec": {
   "display_name": "Python 3 (ipykernel)",
   "language": "python",
   "name": "python3"
  },
  "language_info": {
   "codemirror_mode": {
    "name": "ipython",
    "version": 3
   },
   "file_extension": ".py",
   "mimetype": "text/x-python",
   "name": "python",
   "nbconvert_exporter": "python",
   "pygments_lexer": "ipython3",
   "version": "3.12.7"
  }
 },
 "nbformat": 4,
 "nbformat_minor": 5
}
